{
 "cells": [
  {
   "cell_type": "markdown",
   "metadata": {},
   "source": [
    "1. Generate 50 2D-data points using the following function: $y = 0.4345x^3 - 5.607x^2 + 16.78x - 10.61$"
   ]
  },
  {
   "cell_type": "code",
   "execution_count": 22,
   "metadata": {},
   "outputs": [],
   "source": [
    "%matplotlib inline\n",
    "import matplotlib.pyplot as plt\n",
    "import numpy as np\n",
    "from scipy.linalg import solve_triangular\n",
    "\n",
    "def actual_distribution():\n",
    "    x = np.arange(0, 9, 9/50);\n",
    "    y = 0.4345*np.power(x,3) - 5.607*np.power(x,2) + 16.78*x - 10.61\n",
    "    return x, y"
   ]
  },
  {
   "cell_type": "markdown",
   "metadata": {},
   "source": [
    "2. Add Gaussian random noise to the data. "
   ]
  },
  {
   "cell_type": "code",
   "execution_count": 23,
   "metadata": {},
   "outputs": [],
   "source": [
    "def add_noise(y_curve, sigma):\n",
    "    mu = 0\n",
    "    noise = np.random.normal(mu, sigma, len(y_curve))\n",
    "    y_noise = y_curve + noise\n",
    "    return y_noise"
   ]
  },
  {
   "cell_type": "markdown",
   "metadata": {},
   "source": [
    "3. Prepare the input matrix $A$ and vector $b$"
   ]
  },
  {
   "cell_type": "code",
   "execution_count": 24,
   "metadata": {},
   "outputs": [],
   "source": [
    "# setup X matrix\n",
    "def get_input_matrix(x_value, N, M):\n",
    "    A = np.empty([0, N])\n",
    "\n",
    "    # get the input X matrix\n",
    "    for m in range(M):\n",
    "        result_array = np.array([np.power(x, m)])\n",
    "        A = np.append(A, result_array, axis = 0)\n",
    "        \n",
    "    A = np.transpose(A)\n",
    "    return A\n",
    "\n",
    "N = 50 # number of input data\n",
    "M = 4 # degree of polynomial\n",
    "\n",
    "x, y = actual_distribution() \n",
    "A = get_input_matrix(x, N, M)\n",
    "\n",
    "# get the vector b\n",
    "b = add_noise(y, sigma = 4.0)"
   ]
  },
  {
   "cell_type": "markdown",
   "metadata": {},
   "source": [
    "4. Define Cholesky factorization function "
   ]
  },
  {
   "cell_type": "code",
   "execution_count": 25,
   "metadata": {},
   "outputs": [],
   "source": [
    "def cholesky(A):\n",
    "    if A.shape[0] == 1:\n",
    "        return np.sqrt(A[0,0])\n",
    "\n",
    "    A_tl = A[0,0]\n",
    "    A_bl = A[1:,0]\n",
    "    A_br = A[1:,1:]\n",
    "\n",
    "    L_tl = np.sqrt(A_tl)\n",
    "    L_bl = (A_bl/np.sqrt(A_tl))\n",
    "    L_br = cholesky(A_br-np.dot(L_bl.reshape(-1,1),L_bl.reshape((1,-1)))) # recursion\n",
    "\n",
    "    L = np.eye(len(A))\n",
    "    L[0, 0]  = L_tl\n",
    "    L[1:,0]  = L_bl\n",
    "    L[1:,1:] = L_br\n",
    "    return L"
   ]
  },
  {
   "cell_type": "markdown",
   "metadata": {},
   "source": [
    "5. Compute $A^*A$ and $A^*b$."
   ]
  },
  {
   "cell_type": "code",
   "execution_count": 26,
   "metadata": {},
   "outputs": [
    {
     "name": "stdout",
     "output_type": "stream",
     "text": [
      "[[5.00000000e+01 2.20500000e+02 1.30977000e+03 8.75164500e+03]\n",
      " [2.20500000e+02 1.30977000e+03 8.75164500e+03 6.23732383e+04]\n",
      " [1.30977000e+03 8.75164500e+03 6.23732383e+04 4.63042536e+05]\n",
      " [8.75164500e+03 6.23732383e+04 4.63042536e+05 3.53560034e+06]]\n",
      "[   -374.55383584   -2355.99244397  -15652.36716983 -106689.65770274]\n"
     ]
    }
   ],
   "source": [
    "A_new = A.T.dot(A) \n",
    "b_new = A.T.dot(b)\n",
    "print(A_new)\n",
    "print(b_new)"
   ]
  },
  {
   "cell_type": "markdown",
   "metadata": {},
   "source": [
    "6. Get solutions"
   ]
  },
  {
   "cell_type": "code",
   "execution_count": 27,
   "metadata": {},
   "outputs": [
    {
     "name": "stdout",
     "output_type": "stream",
     "text": [
      "[-8.01224201 13.76584335 -4.84983703  0.38196943]\n"
     ]
    }
   ],
   "source": [
    "R = cholesky(A_new) # cholesky function \n",
    "c = solve_triangular(R, b_new, lower=True) # solve lower triangular system\n",
    "x_w = solve_triangular(R.T, c, lower=False)# solve upper triangular system\n",
    "print(x_w) # result weights for polynomial "
   ]
  },
  {
   "cell_type": "markdown",
   "metadata": {},
   "source": [
    "7. Show the original curve line (red line), the noisy data, and the curve line estimated from the noisy data (blue line)"
   ]
  },
  {
   "cell_type": "code",
   "execution_count": 28,
   "metadata": {},
   "outputs": [
    {
     "data": {
      "image/png": "[encoded data removed]",
      "text/plain": [
       "<Figure size 432x288 with 1 Axes>"
      ]
     },
     "metadata": {
      "needs_background": "light"
     },
     "output_type": "display_data"
    }
   ],
   "source": [
    "def get_y_estimated(w):\n",
    "    p = np.poly1d(np.flip(w))\n",
    "    y_estimated = p(x)\n",
    "    return y_estimated\n",
    "\n",
    "y_estimated = get_y_estimated(x_w)\n",
    "\n",
    "# construct the polynomial function\n",
    "def plot_ploy(x, y, y_estimated, b, x_w, x_begin, x_end, y_begin, y_end):\n",
    "    plt.plot(x, y_estimated, color = 'b')\n",
    "    plt.plot(x, y, color = 'r')\n",
    "    plt.plot(x, y, 'ro')\n",
    "    plt.plot(x, b, 'go')\n",
    "    plt.axis([x_begin, x_end, y_begin, y_end])\n",
    "    plt.show()\n",
    "    \n",
    "plot_ploy(x, y, y_estimated, b, x_w, 0, 9, -30, 15)"
   ]
  },
  {
   "cell_type": "code",
   "execution_count": null,
   "metadata": {},
   "outputs": [],
   "source": []
  }
 ],
 "metadata": {
  "kernelspec": {
   "display_name": "Python 3",
   "language": "python",
   "name": "python3"
  },
  "language_info": {
   "codemirror_mode": {
    "name": "ipython",
    "version": 3
   },
   "file_extension": ".py",
   "mimetype": "text/x-python",
   "name": "python",
   "nbconvert_exporter": "python",
   "pygments_lexer": "ipython3",
   "version": "3.7.7"
  }
 },
 "nbformat": 4,
 "nbformat_minor": 4
}
