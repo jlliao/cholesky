{
 "cells": [
  {
   "cell_type": "code",
   "execution_count": 11,
   "metadata": {},
   "outputs": [
    {
     "name": "stdout",
     "output_type": "stream",
     "text": [
      "[[ 2.  0.  0.]\n",
      " [ 6.  1.  0.]\n",
      " [-8.  5.  3.]]\n"
     ]
    }
   ],
   "source": [
    "import numpy as np\n",
    "\n",
    "def cholesky(A):\n",
    "    if A.shape[0] == 1:\n",
    "        return np.sqrt(A[0,0])\n",
    "\n",
    "    A_tl = A[0,0]\n",
    "    A_bl = A[1:,0]\n",
    "    A_br = A[1:,1:]\n",
    "\n",
    "    L_tl = np.sqrt(A_tl)\n",
    "    L_bl = (A_bl/np.sqrt(A_tl))\n",
    "    L_br = cholesky(A_br-np.dot(L_bl.reshape(-1,1),L_bl.reshape((1,-1)))) # recursion\n",
    "\n",
    "    L = np.eye(len(A))\n",
    "    L[0, 0]  = L_tl\n",
    "    L[1:,0]  = L_bl\n",
    "    L[1:,1:] = L_br\n",
    "    return L\n",
    "\n",
    "A = np.array([[4, 12, -16], # example from wikipedia\n",
    "              [12, 37, -43], \n",
    "              [-16, -43, 98]])\n",
    "\n",
    "print(cholesky(A))"
   ]
  },
  {
   "cell_type": "code",
   "execution_count": null,
   "metadata": {},
   "outputs": [],
   "source": []
  }
 ],
 "metadata": {
  "kernelspec": {
   "display_name": "Python 3",
   "language": "python",
   "name": "python3"
  },
  "language_info": {
   "codemirror_mode": {
    "name": "ipython",
    "version": 3
   },
   "file_extension": ".py",
   "mimetype": "text/x-python",
   "name": "python",
   "nbconvert_exporter": "python",
   "pygments_lexer": "ipython3",
   "version": "3.7.7"
  }
 },
 "nbformat": 4,
 "nbformat_minor": 2
}
