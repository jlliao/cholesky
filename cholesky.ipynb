{
 "cells": [
  {
   "cell_type": "code",
   "execution_count": 1,
   "metadata": {},
   "outputs": [
    {
     "name": "stdout",
     "output_type": "stream",
     "text": [
      "[[ 2.  0.  0.]\n",
      " [ 6.  1.  0.]\n",
      " [-8.  5.  3.]]\n"
     ]
    }
   ],
   "source": [
    "import numpy as np\n",
    "\n",
    "def cholesky_reduce(A):\n",
    "    pivot = A[0, 0]\n",
    "    b = np.mat(A[1:, 0])\n",
    "    B = A[1:, 1:]\n",
    "    return B - (b.T * b) / pivot\n",
    "\n",
    "\n",
    "def L(A):\n",
    "    n = A.shape[0]\n",
    "    if n == 1:\n",
    "        return np.sqrt(A)\n",
    "    b = np.mat(A[1:, 0])\n",
    "    pivot = np.sqrt(A[0, 0])\n",
    "    return np.bmat([\n",
    "        [np.mat(pivot), np.zeros((1, n - 1))],\n",
    "        [b.T / pivot, L(cholesky_reduce(A))]\n",
    "    ])\n",
    "\n",
    "A = np.array([[4, 12, -16], # example from wikipedia\n",
    "              [12, 37, -43], \n",
    "              [-16, -43, 98]])\n",
    "print(L(A))"
   ]
  }
 ],
 "metadata": {
  "kernelspec": {
   "display_name": "Python 3",
   "language": "python",
   "name": "python3"
  },
  "language_info": {
   "codemirror_mode": {
    "name": "ipython",
    "version": 3
   },
   "file_extension": ".py",
   "mimetype": "text/x-python",
   "name": "python",
   "nbconvert_exporter": "python",
   "pygments_lexer": "ipython3",
   "version": "3.7.7"
  }
 },
 "nbformat": 4,
 "nbformat_minor": 2
}
