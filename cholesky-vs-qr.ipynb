{
 "cells": [
  {
   "cell_type": "markdown",
   "metadata": {},
   "source": [
    "1. Generate 50 2D-data points using the following function: $y = 0.4345x^3 - 5.607x^2 + 16.78x - 10.61$"
   ]
  },
  {
   "cell_type": "code",
   "execution_count": 4,
   "metadata": {},
   "outputs": [],
   "source": [
    "%matplotlib inline\n",
    "import matplotlib.pyplot as plt\n",
    "import numpy as np\n",
    "from scipy.linalg import solve_triangular\n",
    "import time\n",
    "\n",
    "def actual_distribution():\n",
    "    x = np.arange(0, 9, 9/100);\n",
    "    y = 0.4345*np.power(x,3) - 5.607*np.power(x,2) + 16.78*x - 10.61\n",
    "    return x, y"
   ]
  },
  {
   "cell_type": "markdown",
   "metadata": {},
   "source": [
    "2. Add Gaussian random noise to the data. "
   ]
  },
  {
   "cell_type": "code",
   "execution_count": 5,
   "metadata": {},
   "outputs": [],
   "source": [
    "def add_noise(y_curve, sigma):\n",
    "    mu = 0\n",
    "    noise = np.random.normal(mu, sigma, len(y_curve))\n",
    "    y_noise = y_curve + noise\n",
    "    return y_noise"
   ]
  },
  {
   "cell_type": "markdown",
   "metadata": {},
   "source": [
    "3. Prepare the input matrix $A$ and vector $b$"
   ]
  },
  {
   "cell_type": "code",
   "execution_count": 6,
   "metadata": {},
   "outputs": [],
   "source": [
    "# setup X matrix\n",
    "def get_input_matrix(x_value, N, M):\n",
    "    A = np.empty([0, N])\n",
    "\n",
    "    # get the input X matrix\n",
    "    for m in range(M):\n",
    "        result_array = np.array([np.power(x, m)])\n",
    "        A = np.append(A, result_array, axis = 0)\n",
    "        \n",
    "    A = np.transpose(A)\n",
    "    return A\n",
    "\n",
    "N = 100 # number of input data\n",
    "M = 4 # degree of polynomial\n",
    "\n",
    "x, y = actual_distribution() \n",
    "A = get_input_matrix(x, N, M)\n",
    "\n",
    "# get the vector b\n",
    "b = add_noise(y, sigma = 4.0)"
   ]
  },
  {
   "cell_type": "markdown",
   "metadata": {},
   "source": [
    "4. Define Cholesky factorization function and qr factorization using gram-schmidt process "
   ]
  },
  {
   "cell_type": "code",
   "execution_count": 13,
   "metadata": {},
   "outputs": [],
   "source": [
    "def cholesky(A):\n",
    "    n = len(A)\n",
    "\n",
    "    # Create zero matrix for L\n",
    "    L = [[0.0] * n for i in range(n)]\n",
    "\n",
    "    # Perform the Cholesky decomposition\n",
    "    for i in range(n):\n",
    "        for k in range(i+1):\n",
    "            tmp_sum = sum(L[i][j] * L[k][j] for j in range(k))\n",
    "            \n",
    "            if (i == k): # Diagonal elements\n",
    "                L[i][k] = np.sqrt(A[i][i] - tmp_sum)\n",
    "            else:\n",
    "                L[i][k] = (1.0 / L[k][k] * (A[i][k] - tmp_sum))\n",
    "    return np.asarray(L)\n",
    "\n",
    "def gram_schmidt(X):\n",
    "    O = np.zeros(X.shape)\n",
    "    for i in range(X.shape[1]):\n",
    "        # orthogonalization\n",
    "        vector = X[:, i]\n",
    "        space = O[:, :i]\n",
    "        projection = vector @ space\n",
    "        vector = vector - np.sum(projection * space, axis=1)\n",
    "        # normalization\n",
    "        norm = np.sqrt(vector @ vector)\n",
    "        vector /= abs(norm) < 1e-8 and 1 or norm\n",
    "        \n",
    "        O[:, i] = vector\n",
    "    return O"
   ]
  },
  {
   "cell_type": "markdown",
   "metadata": {},
   "source": [
    "5. Get solutions using Cholesky and QR factorization. Time their runtime."
   ]
  },
  {
   "cell_type": "code",
   "execution_count": 15,
   "metadata": {},
   "outputs": [
    {
     "name": "stdout",
     "output_type": "stream",
     "text": [
      "Weights for polynomial using Cholesky:\n",
      "[-6.92990267 14.81885125 -5.30338752  0.42017253]\n",
      "Weights for polynomial using QR:\n",
      "[-6.92990267 14.81885125 -5.30338752  0.42017253]\n",
      "Cholesky factorization takes 0.00044798851013183594 seconds\n",
      "QR factorization takes 0.004197835922241211 seconds\n"
     ]
    }
   ],
   "source": [
    "A_new = A.T.dot(A) \n",
    "b_new = A.T.dot(b)\n",
    "\n",
    "start_time_ch = time.time() # time execution of cholesky factorization for ls problem\n",
    "R = cholesky(A_new) # cholesky function \n",
    "c = solve_triangular(R, b_new, lower=True) # solve lower triangular system\n",
    "x_w = solve_triangular(R.T, c, lower=False)# solve upper triangular system\n",
    "total_time_ch = time.time() - start_time_ch\n",
    "\n",
    "start_time_qr = time.time() # time execution of qr factorization for ls problem\n",
    "Q = gram_schmidt(A) # gram-schmidt function to get Q\n",
    "R_new = Q.T.dot(A) # get R\n",
    "x_w_qr = solve_triangular(R_new, Q.T.dot(b), lower=False)# solve upper triangular system\n",
    "total_time_qr = time.time() - start_time_qr\n",
    "\n",
    "print(\"Weights for polynomial using Cholesky:\")\n",
    "print(x_w) # result weights for polynomial using Cholesky\n",
    "print(\"Weights for polynomial using QR:\")\n",
    "print(x_w_qr) # result weights for polynomial using QR\n",
    "print(\"Cholesky factorization takes %s seconds\" % total_time_ch)\n",
    "print(\"QR factorization takes %s seconds\" % total_time_qr)"
   ]
  },
  {
   "cell_type": "markdown",
   "metadata": {},
   "source": [
    "6. Show the original curve line (red line), the noisy data, and the curve line estimated from the noisy data using Cholesky factorization (blue line) and using QR factorization (green line)"
   ]
  },
  {
   "cell_type": "code",
   "execution_count": 17,
   "metadata": {},
   "outputs": [
    {
     "data": {
      "image/png": "[encoded data removed]",
      "text/plain": [
       "<Figure size 432x288 with 1 Axes>"
      ]
     },
     "metadata": {
      "needs_background": "light"
     },
     "output_type": "display_data"
    }
   ],
   "source": [
    "def get_y_estimated(w):\n",
    "    p = np.poly1d(np.flip(w))\n",
    "    y_estimated = p(x)\n",
    "    return y_estimated\n",
    "\n",
    "y_estimated = get_y_estimated(x_w)\n",
    "y_estimated_qr = get_y_estimated(x_w_qr)\n",
    "\n",
    "# construct the polynomial function\n",
    "def plot_ploy(x, y, y_estimated, y_estimated_qr, b, x_w, x_begin, x_end, y_begin, y_end):\n",
    "    plt.plot(x, y_estimated, color = 'b')\n",
    "    plt.plot(x, y_estimated_qr, color = 'g')\n",
    "    plt.plot(x, y, color = 'r')\n",
    "    plt.plot(x, y, 'ro')\n",
    "    plt.plot(x, b, 'go')\n",
    "    plt.axis([x_begin, x_end, y_begin, y_end])\n",
    "    plt.show()\n",
    "    \n",
    "plot_ploy(x, y, y_estimated, y_estimated_qr, b, x_w, 0, 9, -30, 15)"
   ]
  },
  {
   "cell_type": "code",
   "execution_count": null,
   "metadata": {},
   "outputs": [],
   "source": []
  }
 ],
 "metadata": {
  "kernelspec": {
   "display_name": "Python 3",
   "language": "python",
   "name": "python3"
  },
  "language_info": {
   "codemirror_mode": {
    "name": "ipython",
    "version": 3
   },
   "file_extension": ".py",
   "mimetype": "text/x-python",
   "name": "python",
   "nbconvert_exporter": "python",
   "pygments_lexer": "ipython3",
   "version": "3.7.7"
  }
 },
 "nbformat": 4,
 "nbformat_minor": 4
}
